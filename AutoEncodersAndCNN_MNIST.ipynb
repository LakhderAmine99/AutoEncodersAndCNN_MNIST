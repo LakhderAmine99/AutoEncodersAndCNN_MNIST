{
  "cells": [
    {
      "cell_type": "markdown",
      "metadata": {
        "id": "JJZ1IukoxJxt"
      },
      "source": [
        "<h1 style=\"text-align:center;\">AutoEncoders And CNN - MNIST HW Digits</h1>"
      ]
    },
    {
      "cell_type": "markdown",
      "metadata": {
        "id": "CdgngWDwxJx4"
      },
      "source": [
        "## Dependencies"
      ]
    },
    {
      "cell_type": "code",
      "execution_count": 1,
      "metadata": {
        "id": "jypMAbCjxJx5"
      },
      "outputs": [],
      "source": [
        "import tensorflow as tf\n",
        "import numpy as np\n",
        "\n",
        "import matplotlib.pyplot as plt\n",
        "\n",
        "import pandas as pd"
      ]
    },
    {
      "cell_type": "markdown",
      "metadata": {
        "id": "5kr1D2t-xJx6"
      },
      "source": [
        "## Load Data"
      ]
    },
    {
      "cell_type": "code",
      "execution_count": 2,
      "metadata": {
        "colab": {
          "base_uri": "https://localhost:8080/"
        },
        "id": "uetCzjytxJx7",
        "outputId": "323b655a-1264-45d5-ca37-458fcb3e0abe"
      },
      "outputs": [
        {
          "name": "stdout",
          "output_type": "stream",
          "text": [
            "Downloading data from https://storage.googleapis.com/tensorflow/tf-keras-datasets/mnist.npz\n",
            "11490434/11490434 [==============================] - 1s 0us/step\n"
          ]
        }
      ],
      "source": [
        "mnist = tf.keras.datasets.mnist\n",
        "\n",
        "(X_train,y_train),(X_test,y_test) = mnist.load_data()"
      ]
    },
    {
      "cell_type": "code",
      "execution_count": 3,
      "metadata": {
        "colab": {
          "base_uri": "https://localhost:8080/"
        },
        "id": "U2JacSwTxJx7",
        "outputId": "06c3f7f6-68fd-4320-82be-aa47117be0a0"
      },
      "outputs": [
        {
          "data": {
            "text/plain": [
              "(60000, 28, 28)"
            ]
          },
          "execution_count": 3,
          "metadata": {},
          "output_type": "execute_result"
        }
      ],
      "source": [
        "X_train.shape"
      ]
    },
    {
      "cell_type": "code",
      "execution_count": 4,
      "metadata": {
        "colab": {
          "base_uri": "https://localhost:8080/"
        },
        "id": "-l-0VE9GxJx8",
        "outputId": "7bd0ec6c-61fd-42fd-8b93-0210249b461d"
      },
      "outputs": [
        {
          "data": {
            "text/plain": [
              "(60000, 784)"
            ]
          },
          "execution_count": 4,
          "metadata": {},
          "output_type": "execute_result"
        }
      ],
      "source": [
        "X_train = X_train.astype('float32') / 255.\n",
        "X_test = X_test.astype('float32') / 255.\n",
        "\n",
        "X_train = X_train.reshape((len(X_train),np.prod(X_train.shape[1:])))\n",
        "X_test = X_test.reshape((len(X_test),np.prod(X_test.shape[1:])))\n",
        "\n",
        "X_train.shape\n"
      ]
    },
    {
      "cell_type": "markdown",
      "metadata": {
        "id": "ZGFIrPW9xJx9"
      },
      "source": [
        "## AutoEncoders"
      ]
    },
    {
      "cell_type": "markdown",
      "metadata": {},
      "source": [
        "A deep autoencoders architecture for the MNIST data"
      ]
    },
    {
      "cell_type": "code",
      "execution_count": 5,
      "metadata": {
        "id": "LmZyhU6UxJx9"
      },
      "outputs": [],
      "source": [
        "input_img = tf.keras.Input(shape=(784,))\n",
        "\n",
        "encoded = tf.keras.layers.Dense(128,activation=\"relu\")(input_img)\n",
        "encoded = tf.keras.layers.Dense(64,activation=\"relu\")(encoded)\n",
        "encoded = tf.keras.layers.Dense(32,activation=\"relu\")(encoded)"
      ]
    },
    {
      "cell_type": "code",
      "execution_count": 6,
      "metadata": {
        "id": "DUlPPVyixJx9"
      },
      "outputs": [],
      "source": [
        "decoded = tf.keras.layers.Dense(32,activation=\"sigmoid\")(encoded)\n",
        "decoded = tf.keras.layers.Dense(64,activation=\"sigmoid\")(encoded)\n",
        "decoded = tf.keras.layers.Dense(784,activation=\"sigmoid\")(encoded)"
      ]
    },
    {
      "cell_type": "code",
      "execution_count": 7,
      "metadata": {
        "id": "M_n1Gz80xJx-"
      },
      "outputs": [],
      "source": [
        "autoencoder = tf.keras.Model(input_img,decoded)"
      ]
    },
    {
      "cell_type": "code",
      "execution_count": 8,
      "metadata": {
        "id": "MI4Ud3r_xJx-"
      },
      "outputs": [],
      "source": [
        "autoencoder.compile(\n",
        "    optimizer=\"adam\",\n",
        "    loss=tf.keras.losses.MeanSquaredError(),\n",
        "    metrics=[\"accuracy\"]\n",
        ")"
      ]
    },
    {
      "cell_type": "code",
      "execution_count": 9,
      "metadata": {
        "colab": {
          "base_uri": "https://localhost:8080/"
        },
        "id": "HAilScgZxJx-",
        "outputId": "73ae0c81-795e-4278-8981-0f163b98d0e0"
      },
      "outputs": [
        {
          "name": "stdout",
          "output_type": "stream",
          "text": [
            "Model: \"model\"\n",
            "_________________________________________________________________\n",
            " Layer (type)                Output Shape              Param #   \n",
            "=================================================================\n",
            " input_1 (InputLayer)        [(None, 784)]             0         \n",
            "                                                                 \n",
            " dense (Dense)               (None, 128)               100480    \n",
            "                                                                 \n",
            " dense_1 (Dense)             (None, 64)                8256      \n",
            "                                                                 \n",
            " dense_2 (Dense)             (None, 32)                2080      \n",
            "                                                                 \n",
            " dense_5 (Dense)             (None, 784)               25872     \n",
            "                                                                 \n",
            "=================================================================\n",
            "Total params: 136,688\n",
            "Trainable params: 136,688\n",
            "Non-trainable params: 0\n",
            "_________________________________________________________________\n"
          ]
        }
      ],
      "source": [
        "autoencoder.summary()"
      ]
    },
    {
      "cell_type": "code",
      "execution_count": 10,
      "metadata": {
        "colab": {
          "base_uri": "https://localhost:8080/"
        },
        "id": "Vp1xh4nyxJx_",
        "outputId": "780d8d08-2bd1-4c78-b805-33f746fd6740"
      },
      "outputs": [
        {
          "name": "stdout",
          "output_type": "stream",
          "text": [
            "Epoch 1/100\n",
            "235/235 [==============================] - 4s 6ms/step - loss: 0.0662 - accuracy: 0.0089 - val_loss: 0.0393 - val_accuracy: 0.0061\n",
            "Epoch 2/100\n",
            "235/235 [==============================] - 1s 5ms/step - loss: 0.0311 - accuracy: 0.0115 - val_loss: 0.0245 - val_accuracy: 0.0111\n",
            "Epoch 3/100\n",
            "235/235 [==============================] - 1s 6ms/step - loss: 0.0221 - accuracy: 0.0097 - val_loss: 0.0197 - val_accuracy: 0.0103\n",
            "Epoch 4/100\n",
            "235/235 [==============================] - 1s 5ms/step - loss: 0.0190 - accuracy: 0.0102 - val_loss: 0.0175 - val_accuracy: 0.0121\n",
            "Epoch 5/100\n",
            "235/235 [==============================] - 1s 5ms/step - loss: 0.0170 - accuracy: 0.0106 - val_loss: 0.0156 - val_accuracy: 0.0107\n",
            "Epoch 6/100\n",
            "235/235 [==============================] - 1s 5ms/step - loss: 0.0153 - accuracy: 0.0106 - val_loss: 0.0141 - val_accuracy: 0.0106\n",
            "Epoch 7/100\n",
            "235/235 [==============================] - 1s 5ms/step - loss: 0.0141 - accuracy: 0.0105 - val_loss: 0.0131 - val_accuracy: 0.0114\n",
            "Epoch 8/100\n",
            "235/235 [==============================] - 1s 5ms/step - loss: 0.0132 - accuracy: 0.0103 - val_loss: 0.0125 - val_accuracy: 0.0119\n",
            "Epoch 9/100\n",
            "235/235 [==============================] - 2s 7ms/step - loss: 0.0125 - accuracy: 0.0113 - val_loss: 0.0118 - val_accuracy: 0.0126\n",
            "Epoch 10/100\n",
            "235/235 [==============================] - 2s 8ms/step - loss: 0.0119 - accuracy: 0.0111 - val_loss: 0.0114 - val_accuracy: 0.0122\n",
            "Epoch 11/100\n",
            "235/235 [==============================] - 2s 8ms/step - loss: 0.0115 - accuracy: 0.0117 - val_loss: 0.0110 - val_accuracy: 0.0116\n",
            "Epoch 12/100\n",
            "235/235 [==============================] - 2s 9ms/step - loss: 0.0112 - accuracy: 0.0118 - val_loss: 0.0107 - val_accuracy: 0.0134\n",
            "Epoch 13/100\n",
            "235/235 [==============================] - 1s 5ms/step - loss: 0.0109 - accuracy: 0.0119 - val_loss: 0.0105 - val_accuracy: 0.0129\n",
            "Epoch 14/100\n",
            "235/235 [==============================] - 1s 6ms/step - loss: 0.0106 - accuracy: 0.0118 - val_loss: 0.0103 - val_accuracy: 0.0121\n",
            "Epoch 15/100\n",
            "235/235 [==============================] - 2s 8ms/step - loss: 0.0104 - accuracy: 0.0118 - val_loss: 0.0100 - val_accuracy: 0.0139\n",
            "Epoch 16/100\n",
            "235/235 [==============================] - 2s 8ms/step - loss: 0.0101 - accuracy: 0.0124 - val_loss: 0.0098 - val_accuracy: 0.0112\n",
            "Epoch 17/100\n",
            "235/235 [==============================] - 2s 7ms/step - loss: 0.0100 - accuracy: 0.0126 - val_loss: 0.0096 - val_accuracy: 0.0121\n",
            "Epoch 18/100\n",
            "235/235 [==============================] - 1s 5ms/step - loss: 0.0098 - accuracy: 0.0124 - val_loss: 0.0094 - val_accuracy: 0.0122\n",
            "Epoch 19/100\n",
            "235/235 [==============================] - 2s 6ms/step - loss: 0.0096 - accuracy: 0.0129 - val_loss: 0.0093 - val_accuracy: 0.0137\n",
            "Epoch 20/100\n",
            "235/235 [==============================] - 1s 5ms/step - loss: 0.0095 - accuracy: 0.0130 - val_loss: 0.0092 - val_accuracy: 0.0104\n",
            "Epoch 21/100\n",
            "235/235 [==============================] - 1s 5ms/step - loss: 0.0094 - accuracy: 0.0126 - val_loss: 0.0091 - val_accuracy: 0.0111\n",
            "Epoch 22/100\n",
            "235/235 [==============================] - 1s 5ms/step - loss: 0.0093 - accuracy: 0.0132 - val_loss: 0.0090 - val_accuracy: 0.0128\n",
            "Epoch 23/100\n",
            "235/235 [==============================] - 1s 5ms/step - loss: 0.0092 - accuracy: 0.0129 - val_loss: 0.0089 - val_accuracy: 0.0123\n",
            "Epoch 24/100\n",
            "235/235 [==============================] - 1s 5ms/step - loss: 0.0091 - accuracy: 0.0126 - val_loss: 0.0088 - val_accuracy: 0.0124\n",
            "Epoch 25/100\n",
            "235/235 [==============================] - 1s 5ms/step - loss: 0.0090 - accuracy: 0.0131 - val_loss: 0.0088 - val_accuracy: 0.0133\n",
            "Epoch 26/100\n",
            "235/235 [==============================] - 1s 5ms/step - loss: 0.0090 - accuracy: 0.0126 - val_loss: 0.0087 - val_accuracy: 0.0140\n",
            "Epoch 27/100\n",
            "235/235 [==============================] - 1s 5ms/step - loss: 0.0089 - accuracy: 0.0132 - val_loss: 0.0087 - val_accuracy: 0.0127\n",
            "Epoch 28/100\n",
            "235/235 [==============================] - 1s 5ms/step - loss: 0.0088 - accuracy: 0.0123 - val_loss: 0.0086 - val_accuracy: 0.0125\n",
            "Epoch 29/100\n",
            "235/235 [==============================] - 1s 5ms/step - loss: 0.0088 - accuracy: 0.0125 - val_loss: 0.0086 - val_accuracy: 0.0133\n",
            "Epoch 30/100\n",
            "235/235 [==============================] - 1s 5ms/step - loss: 0.0087 - accuracy: 0.0130 - val_loss: 0.0085 - val_accuracy: 0.0126\n",
            "Epoch 31/100\n",
            "235/235 [==============================] - 1s 5ms/step - loss: 0.0087 - accuracy: 0.0131 - val_loss: 0.0085 - val_accuracy: 0.0129\n",
            "Epoch 32/100\n",
            "235/235 [==============================] - 1s 5ms/step - loss: 0.0086 - accuracy: 0.0122 - val_loss: 0.0084 - val_accuracy: 0.0121\n",
            "Epoch 33/100\n",
            "235/235 [==============================] - 1s 5ms/step - loss: 0.0086 - accuracy: 0.0131 - val_loss: 0.0084 - val_accuracy: 0.0127\n",
            "Epoch 34/100\n",
            "235/235 [==============================] - 1s 5ms/step - loss: 0.0086 - accuracy: 0.0126 - val_loss: 0.0083 - val_accuracy: 0.0110\n",
            "Epoch 35/100\n",
            "235/235 [==============================] - 1s 5ms/step - loss: 0.0085 - accuracy: 0.0130 - val_loss: 0.0083 - val_accuracy: 0.0127\n",
            "Epoch 36/100\n",
            "235/235 [==============================] - 1s 5ms/step - loss: 0.0085 - accuracy: 0.0127 - val_loss: 0.0084 - val_accuracy: 0.0112\n",
            "Epoch 37/100\n",
            "235/235 [==============================] - 1s 6ms/step - loss: 0.0084 - accuracy: 0.0133 - val_loss: 0.0082 - val_accuracy: 0.0125\n",
            "Epoch 38/100\n",
            "235/235 [==============================] - 1s 6ms/step - loss: 0.0084 - accuracy: 0.0127 - val_loss: 0.0083 - val_accuracy: 0.0124\n",
            "Epoch 39/100\n",
            "235/235 [==============================] - 1s 5ms/step - loss: 0.0084 - accuracy: 0.0129 - val_loss: 0.0082 - val_accuracy: 0.0123\n",
            "Epoch 40/100\n",
            "235/235 [==============================] - 1s 5ms/step - loss: 0.0083 - accuracy: 0.0128 - val_loss: 0.0083 - val_accuracy: 0.0128\n",
            "Epoch 41/100\n",
            "235/235 [==============================] - 1s 5ms/step - loss: 0.0083 - accuracy: 0.0131 - val_loss: 0.0081 - val_accuracy: 0.0121\n",
            "Epoch 42/100\n",
            "235/235 [==============================] - 1s 5ms/step - loss: 0.0083 - accuracy: 0.0126 - val_loss: 0.0081 - val_accuracy: 0.0118\n",
            "Epoch 43/100\n",
            "235/235 [==============================] - 1s 5ms/step - loss: 0.0082 - accuracy: 0.0125 - val_loss: 0.0081 - val_accuracy: 0.0114\n",
            "Epoch 44/100\n",
            "235/235 [==============================] - 1s 5ms/step - loss: 0.0082 - accuracy: 0.0126 - val_loss: 0.0080 - val_accuracy: 0.0116\n",
            "Epoch 45/100\n",
            "235/235 [==============================] - 1s 5ms/step - loss: 0.0082 - accuracy: 0.0127 - val_loss: 0.0081 - val_accuracy: 0.0126\n",
            "Epoch 46/100\n",
            "235/235 [==============================] - 1s 5ms/step - loss: 0.0082 - accuracy: 0.0130 - val_loss: 0.0080 - val_accuracy: 0.0140\n",
            "Epoch 47/100\n",
            "235/235 [==============================] - 1s 5ms/step - loss: 0.0081 - accuracy: 0.0126 - val_loss: 0.0079 - val_accuracy: 0.0121\n",
            "Epoch 48/100\n",
            "235/235 [==============================] - 1s 5ms/step - loss: 0.0081 - accuracy: 0.0124 - val_loss: 0.0079 - val_accuracy: 0.0124\n",
            "Epoch 49/100\n",
            "235/235 [==============================] - 1s 5ms/step - loss: 0.0081 - accuracy: 0.0127 - val_loss: 0.0080 - val_accuracy: 0.0123\n",
            "Epoch 50/100\n",
            "235/235 [==============================] - 1s 5ms/step - loss: 0.0081 - accuracy: 0.0129 - val_loss: 0.0080 - val_accuracy: 0.0115\n",
            "Epoch 51/100\n",
            "235/235 [==============================] - 1s 5ms/step - loss: 0.0080 - accuracy: 0.0126 - val_loss: 0.0079 - val_accuracy: 0.0135\n",
            "Epoch 52/100\n",
            "235/235 [==============================] - 1s 5ms/step - loss: 0.0080 - accuracy: 0.0124 - val_loss: 0.0078 - val_accuracy: 0.0140\n",
            "Epoch 53/100\n",
            "235/235 [==============================] - 1s 5ms/step - loss: 0.0080 - accuracy: 0.0124 - val_loss: 0.0078 - val_accuracy: 0.0123\n",
            "Epoch 54/100\n",
            "235/235 [==============================] - 1s 5ms/step - loss: 0.0080 - accuracy: 0.0125 - val_loss: 0.0078 - val_accuracy: 0.0131\n",
            "Epoch 55/100\n",
            "235/235 [==============================] - 1s 5ms/step - loss: 0.0080 - accuracy: 0.0122 - val_loss: 0.0078 - val_accuracy: 0.0133\n",
            "Epoch 56/100\n",
            "235/235 [==============================] - 1s 5ms/step - loss: 0.0079 - accuracy: 0.0120 - val_loss: 0.0078 - val_accuracy: 0.0132\n",
            "Epoch 57/100\n",
            "235/235 [==============================] - 1s 5ms/step - loss: 0.0079 - accuracy: 0.0126 - val_loss: 0.0078 - val_accuracy: 0.0126\n",
            "Epoch 58/100\n",
            "235/235 [==============================] - 1s 5ms/step - loss: 0.0079 - accuracy: 0.0125 - val_loss: 0.0078 - val_accuracy: 0.0132\n",
            "Epoch 59/100\n",
            "235/235 [==============================] - 1s 5ms/step - loss: 0.0079 - accuracy: 0.0132 - val_loss: 0.0077 - val_accuracy: 0.0123\n",
            "Epoch 60/100\n",
            "235/235 [==============================] - 1s 5ms/step - loss: 0.0079 - accuracy: 0.0127 - val_loss: 0.0078 - val_accuracy: 0.0127\n",
            "Epoch 61/100\n",
            "235/235 [==============================] - 1s 5ms/step - loss: 0.0079 - accuracy: 0.0124 - val_loss: 0.0077 - val_accuracy: 0.0142\n",
            "Epoch 62/100\n",
            "235/235 [==============================] - 1s 5ms/step - loss: 0.0078 - accuracy: 0.0128 - val_loss: 0.0077 - val_accuracy: 0.0126\n",
            "Epoch 63/100\n",
            "235/235 [==============================] - 1s 5ms/step - loss: 0.0078 - accuracy: 0.0131 - val_loss: 0.0077 - val_accuracy: 0.0135\n",
            "Epoch 64/100\n",
            "235/235 [==============================] - 1s 5ms/step - loss: 0.0078 - accuracy: 0.0128 - val_loss: 0.0077 - val_accuracy: 0.0123\n",
            "Epoch 65/100\n",
            "235/235 [==============================] - 1s 5ms/step - loss: 0.0078 - accuracy: 0.0125 - val_loss: 0.0076 - val_accuracy: 0.0129\n",
            "Epoch 66/100\n",
            "235/235 [==============================] - 1s 5ms/step - loss: 0.0078 - accuracy: 0.0129 - val_loss: 0.0077 - val_accuracy: 0.0129\n",
            "Epoch 67/100\n",
            "235/235 [==============================] - 1s 5ms/step - loss: 0.0078 - accuracy: 0.0128 - val_loss: 0.0076 - val_accuracy: 0.0114\n",
            "Epoch 68/100\n",
            "235/235 [==============================] - 1s 5ms/step - loss: 0.0077 - accuracy: 0.0134 - val_loss: 0.0076 - val_accuracy: 0.0124\n",
            "Epoch 69/100\n",
            "235/235 [==============================] - 1s 5ms/step - loss: 0.0077 - accuracy: 0.0125 - val_loss: 0.0076 - val_accuracy: 0.0119\n",
            "Epoch 70/100\n",
            "235/235 [==============================] - 1s 5ms/step - loss: 0.0077 - accuracy: 0.0131 - val_loss: 0.0076 - val_accuracy: 0.0117\n",
            "Epoch 71/100\n",
            "235/235 [==============================] - 2s 6ms/step - loss: 0.0076 - accuracy: 0.0129 - val_loss: 0.0075 - val_accuracy: 0.0145\n",
            "Epoch 72/100\n",
            "235/235 [==============================] - 1s 5ms/step - loss: 0.0076 - accuracy: 0.0128 - val_loss: 0.0075 - val_accuracy: 0.0127\n",
            "Epoch 73/100\n",
            "235/235 [==============================] - 1s 5ms/step - loss: 0.0076 - accuracy: 0.0129 - val_loss: 0.0075 - val_accuracy: 0.0119\n",
            "Epoch 74/100\n",
            "235/235 [==============================] - 1s 5ms/step - loss: 0.0076 - accuracy: 0.0130 - val_loss: 0.0075 - val_accuracy: 0.0142\n",
            "Epoch 75/100\n",
            "235/235 [==============================] - 1s 6ms/step - loss: 0.0076 - accuracy: 0.0133 - val_loss: 0.0074 - val_accuracy: 0.0139\n",
            "Epoch 76/100\n",
            "235/235 [==============================] - 1s 6ms/step - loss: 0.0076 - accuracy: 0.0132 - val_loss: 0.0074 - val_accuracy: 0.0123\n",
            "Epoch 77/100\n",
            "235/235 [==============================] - 1s 5ms/step - loss: 0.0076 - accuracy: 0.0132 - val_loss: 0.0075 - val_accuracy: 0.0117\n",
            "Epoch 78/100\n",
            "235/235 [==============================] - 1s 5ms/step - loss: 0.0076 - accuracy: 0.0127 - val_loss: 0.0075 - val_accuracy: 0.0112\n",
            "Epoch 79/100\n",
            "235/235 [==============================] - 1s 5ms/step - loss: 0.0076 - accuracy: 0.0125 - val_loss: 0.0074 - val_accuracy: 0.0148\n",
            "Epoch 80/100\n",
            "235/235 [==============================] - 1s 5ms/step - loss: 0.0076 - accuracy: 0.0126 - val_loss: 0.0075 - val_accuracy: 0.0140\n",
            "Epoch 81/100\n",
            "235/235 [==============================] - 2s 7ms/step - loss: 0.0075 - accuracy: 0.0132 - val_loss: 0.0074 - val_accuracy: 0.0118\n",
            "Epoch 82/100\n",
            "235/235 [==============================] - 2s 7ms/step - loss: 0.0075 - accuracy: 0.0130 - val_loss: 0.0074 - val_accuracy: 0.0127\n",
            "Epoch 83/100\n",
            "235/235 [==============================] - 1s 5ms/step - loss: 0.0075 - accuracy: 0.0134 - val_loss: 0.0073 - val_accuracy: 0.0125\n",
            "Epoch 84/100\n",
            "235/235 [==============================] - 1s 5ms/step - loss: 0.0075 - accuracy: 0.0128 - val_loss: 0.0074 - val_accuracy: 0.0114\n",
            "Epoch 85/100\n",
            "235/235 [==============================] - 1s 5ms/step - loss: 0.0075 - accuracy: 0.0131 - val_loss: 0.0073 - val_accuracy: 0.0145\n",
            "Epoch 86/100\n",
            "235/235 [==============================] - 1s 5ms/step - loss: 0.0075 - accuracy: 0.0133 - val_loss: 0.0074 - val_accuracy: 0.0149\n",
            "Epoch 87/100\n",
            "235/235 [==============================] - 1s 5ms/step - loss: 0.0075 - accuracy: 0.0131 - val_loss: 0.0074 - val_accuracy: 0.0139\n",
            "Epoch 88/100\n",
            "235/235 [==============================] - 1s 5ms/step - loss: 0.0075 - accuracy: 0.0124 - val_loss: 0.0074 - val_accuracy: 0.0138\n",
            "Epoch 89/100\n",
            "235/235 [==============================] - 1s 5ms/step - loss: 0.0075 - accuracy: 0.0132 - val_loss: 0.0074 - val_accuracy: 0.0113\n",
            "Epoch 90/100\n",
            "235/235 [==============================] - 1s 5ms/step - loss: 0.0075 - accuracy: 0.0131 - val_loss: 0.0073 - val_accuracy: 0.0141\n",
            "Epoch 91/100\n",
            "235/235 [==============================] - 1s 5ms/step - loss: 0.0075 - accuracy: 0.0126 - val_loss: 0.0073 - val_accuracy: 0.0112\n",
            "Epoch 92/100\n",
            "235/235 [==============================] - 1s 5ms/step - loss: 0.0074 - accuracy: 0.0127 - val_loss: 0.0073 - val_accuracy: 0.0133\n",
            "Epoch 93/100\n",
            "235/235 [==============================] - 1s 5ms/step - loss: 0.0074 - accuracy: 0.0131 - val_loss: 0.0074 - val_accuracy: 0.0134\n",
            "Epoch 94/100\n",
            "235/235 [==============================] - 1s 5ms/step - loss: 0.0074 - accuracy: 0.0126 - val_loss: 0.0073 - val_accuracy: 0.0122\n",
            "Epoch 95/100\n",
            "235/235 [==============================] - 1s 5ms/step - loss: 0.0074 - accuracy: 0.0126 - val_loss: 0.0073 - val_accuracy: 0.0117\n",
            "Epoch 96/100\n",
            "235/235 [==============================] - 1s 5ms/step - loss: 0.0074 - accuracy: 0.0133 - val_loss: 0.0073 - val_accuracy: 0.0138\n",
            "Epoch 97/100\n",
            "235/235 [==============================] - 1s 5ms/step - loss: 0.0074 - accuracy: 0.0127 - val_loss: 0.0073 - val_accuracy: 0.0124\n",
            "Epoch 98/100\n",
            "235/235 [==============================] - 1s 5ms/step - loss: 0.0074 - accuracy: 0.0128 - val_loss: 0.0073 - val_accuracy: 0.0133\n",
            "Epoch 99/100\n",
            "235/235 [==============================] - 1s 5ms/step - loss: 0.0074 - accuracy: 0.0127 - val_loss: 0.0073 - val_accuracy: 0.0099\n",
            "Epoch 100/100\n",
            "235/235 [==============================] - 1s 5ms/step - loss: 0.0074 - accuracy: 0.0130 - val_loss: 0.0072 - val_accuracy: 0.0136\n"
          ]
        }
      ],
      "source": [
        "history = autoencoder.fit(\n",
        "    X_train, X_train,\n",
        "    epochs=100,\n",
        "    batch_size=256,\n",
        "    shuffle=True,\n",
        "    validation_data=(X_test, X_test)\n",
        ")"
      ]
    },
    {
      "cell_type": "markdown",
      "metadata": {},
      "source": [
        "### Predict the new MNIST images"
      ]
    },
    {
      "cell_type": "code",
      "execution_count": 11,
      "metadata": {
        "colab": {
          "base_uri": "https://localhost:8080/"
        },
        "id": "kz_6VFo3xJx_",
        "outputId": "e08a3dfa-0060-401f-b4bb-132706203c84"
      },
      "outputs": [
        {
          "name": "stdout",
          "output_type": "stream",
          "text": [
            "313/313 [==============================] - 1s 2ms/step\n"
          ]
        }
      ],
      "source": [
        "decoded_imgs = autoencoder.predict(X_test)"
      ]
    },
    {
      "cell_type": "code",
      "execution_count": 12,
      "metadata": {
        "colab": {
          "base_uri": "https://localhost:8080/",
          "height": 234
        },
        "id": "uQtr4mLixJyA",
        "outputId": "c1deb967-20b8-43a5-b2b2-d17ea5c7ebe0"
      },
      "outputs": [
        {
          "data": {
            "image/png": "[encoded data removed]",
            "text/plain": [
              "<Figure size 1440x288 with 20 Axes>"
            ]
          },
          "metadata": {
            "needs_background": "light"
          },
          "output_type": "display_data"
        }
      ],
      "source": [
        "n = 10\n",
        "plt.figure(figsize=(20, 4))\n",
        "\n",
        "for i in range(1, n + 1):\n",
        "\n",
        "    ax = plt.subplot(2, n, i)\n",
        "    plt.imshow(X_test[i].reshape(28, 28))\n",
        "    plt.gray()\n",
        "    ax.get_xaxis().set_visible(False)\n",
        "    ax.get_yaxis().set_visible(False)\n",
        "\n",
        "\n",
        "    ax = plt.subplot(2, n, i + n)\n",
        "    plt.imshow(decoded_imgs[i].reshape(28, 28))\n",
        "    plt.gray()\n",
        "    ax.get_xaxis().set_visible(False)\n",
        "    ax.get_yaxis().set_visible(False)\n",
        "plt.show()"
      ]
    },
    {
      "cell_type": "markdown",
      "metadata": {
        "id": "KB9O7VlbxJyA"
      },
      "source": [
        "## Image Denoising"
      ]
    },
    {
      "cell_type": "markdown",
      "metadata": {},
      "source": [
        "#### Using autoencoders with cnn to remove noise ( in this example i'm using the gaussien noise )"
      ]
    },
    {
      "cell_type": "code",
      "execution_count": 13,
      "metadata": {
        "id": "20WTiBRHxJyA"
      },
      "outputs": [],
      "source": [
        "(X_train_,_),(X_test_,_) = mnist.load_data()"
      ]
    },
    {
      "cell_type": "code",
      "execution_count": 14,
      "metadata": {
        "id": "zItQo_JaxJyB"
      },
      "outputs": [],
      "source": [
        "noise_factor = 0.5\n",
        "\n",
        "x_train_noisy = X_train_ + noise_factor * np.random.normal(loc=0.0, scale=1.0, size=X_train_.shape) \n",
        "x_test_noisy = X_test_ + noise_factor * np.random.normal(loc=0.0, scale=1.0, size=X_test_.shape) \n",
        "\n",
        "x_train_noisy = np.clip(x_train_noisy, 0., 1.)\n",
        "x_test_noisy = np.clip(x_test_noisy, 0., 1.)"
      ]
    },
    {
      "cell_type": "code",
      "execution_count": 15,
      "metadata": {
        "colab": {
          "base_uri": "https://localhost:8080/",
          "height": 122
        },
        "id": "BTS7p2VOxJyB",
        "outputId": "9c3f3c74-5c46-4e1a-f983-34d0f162f653"
      },
      "outputs": [
        {
          "data": {
            "image/png": "[encoded data removed]",
            "text/plain": [
              "<Figure size 1440x144 with 10 Axes>"
            ]
          },
          "metadata": {
            "needs_background": "light"
          },
          "output_type": "display_data"
        }
      ],
      "source": [
        "n = 10\n",
        "plt.figure(figsize=(20, 2))\n",
        "for i in range(1, n + 1):\n",
        "    ax = plt.subplot(1, n, i)\n",
        "    plt.imshow(x_test_noisy[i].reshape(28, 28))\n",
        "    plt.gray()\n",
        "    ax.get_xaxis().set_visible(False)\n",
        "    ax.get_yaxis().set_visible(False)\n",
        "plt.show()"
      ]
    },
    {
      "cell_type": "markdown",
      "metadata": {},
      "source": [
        "## Build the deep autoencoders - CNN architecture"
      ]
    },
    {
      "cell_type": "code",
      "execution_count": 16,
      "metadata": {
        "id": "kvk7x6pMxJyB"
      },
      "outputs": [],
      "source": [
        "input_img = tf.keras.Input(shape=(28,28,1))\n",
        "\n",
        "x = tf.keras.layers.Conv2D(32,(3,3),activation=\"relu\",padding=\"same\")(input_img)\n",
        "x = tf.keras.layers.MaxPooling2D((2,2),padding=\"same\")(x)\n",
        "x = tf.keras.layers.Conv2D(32,(3,3),activation=\"relu\",padding=\"same\")(x)\n",
        "\n",
        "encoded = tf.keras.layers.MaxPooling2D((2, 2), padding='same')(x)\n",
        "\n",
        "x = tf.keras.layers.Conv2D(32, (3, 3), activation='relu', padding='same')(encoded)\n",
        "x = tf.keras.layers.UpSampling2D((2, 2))(x)\n",
        "x = tf.keras.layers.Conv2D(32, (3, 3), activation='relu', padding='same')(x)\n",
        "x = tf.keras.layers.UpSampling2D((2, 2))(x)\n",
        "\n",
        "decoded = tf.keras.layers.Conv2D(1, (3, 3), activation='sigmoid', padding='same')(x)"
      ]
    },
    {
      "cell_type": "code",
      "execution_count": 17,
      "metadata": {
        "id": "fyF08sRNxJyC"
      },
      "outputs": [],
      "source": [
        "autoencoder = tf.keras.Model(input_img, decoded)\n",
        "autoencoder.compile(optimizer='adam', loss='binary_crossentropy')"
      ]
    },
    {
      "cell_type": "code",
      "execution_count": 18,
      "metadata": {
        "colab": {
          "base_uri": "https://localhost:8080/"
        },
        "id": "wgBakVdzxJyC",
        "outputId": "3a23be28-9403-4710-fb51-f2091da8abef"
      },
      "outputs": [
        {
          "name": "stdout",
          "output_type": "stream",
          "text": [
            "Epoch 1/100\n",
            "469/469 [==============================] - 11s 9ms/step - loss: -488.2695 - val_loss: -509.6427\n",
            "Epoch 2/100\n",
            "469/469 [==============================] - 3s 7ms/step - loss: -502.9625 - val_loss: -510.6035\n",
            "Epoch 3/100\n",
            "469/469 [==============================] - 3s 7ms/step - loss: -503.5666 - val_loss: -510.8856\n",
            "Epoch 4/100\n",
            "469/469 [==============================] - 3s 7ms/step - loss: -503.7692 - val_loss: -511.0865\n",
            "Epoch 5/100\n",
            "469/469 [==============================] - 3s 7ms/step - loss: -503.9238 - val_loss: -511.2265\n",
            "Epoch 6/100\n",
            "469/469 [==============================] - 3s 7ms/step - loss: -504.0203 - val_loss: -511.3019\n",
            "Epoch 7/100\n",
            "469/469 [==============================] - 3s 7ms/step - loss: -504.0966 - val_loss: -511.3744\n",
            "Epoch 8/100\n",
            "469/469 [==============================] - 3s 7ms/step - loss: -504.1698 - val_loss: -511.3918\n",
            "Epoch 9/100\n",
            "469/469 [==============================] - 3s 7ms/step - loss: -504.2306 - val_loss: -511.4061\n",
            "Epoch 10/100\n",
            "469/469 [==============================] - 3s 7ms/step - loss: -504.2646 - val_loss: -511.4738\n",
            "Epoch 11/100\n",
            "469/469 [==============================] - 3s 7ms/step - loss: -504.3045 - val_loss: -511.5421\n",
            "Epoch 12/100\n",
            "469/469 [==============================] - 3s 7ms/step - loss: -504.3396 - val_loss: -511.5795\n",
            "Epoch 13/100\n",
            "469/469 [==============================] - 4s 8ms/step - loss: -504.3863 - val_loss: -511.5962\n",
            "Epoch 14/100\n",
            "469/469 [==============================] - 4s 8ms/step - loss: -504.4096 - val_loss: -511.6339\n",
            "Epoch 15/100\n",
            "469/469 [==============================] - 3s 7ms/step - loss: -504.4496 - val_loss: -511.6783\n",
            "Epoch 16/100\n",
            "469/469 [==============================] - 3s 7ms/step - loss: -504.4892 - val_loss: -511.7036\n",
            "Epoch 17/100\n",
            "469/469 [==============================] - 3s 7ms/step - loss: -504.5217 - val_loss: -511.6501\n",
            "Epoch 18/100\n",
            "469/469 [==============================] - 3s 7ms/step - loss: -504.5390 - val_loss: -511.7069\n",
            "Epoch 19/100\n",
            "469/469 [==============================] - 3s 7ms/step - loss: -504.5611 - val_loss: -511.7719\n",
            "Epoch 20/100\n",
            "469/469 [==============================] - 3s 7ms/step - loss: -504.5849 - val_loss: -511.7498\n",
            "Epoch 21/100\n",
            "469/469 [==============================] - 3s 7ms/step - loss: -504.6087 - val_loss: -511.7971\n",
            "Epoch 22/100\n",
            "469/469 [==============================] - 3s 7ms/step - loss: -504.6247 - val_loss: -511.8206\n",
            "Epoch 23/100\n",
            "469/469 [==============================] - 3s 7ms/step - loss: -504.6371 - val_loss: -511.8329\n",
            "Epoch 24/100\n",
            "469/469 [==============================] - 3s 7ms/step - loss: -504.6451 - val_loss: -511.8380\n",
            "Epoch 25/100\n",
            "469/469 [==============================] - 3s 7ms/step - loss: -504.6592 - val_loss: -511.8464\n",
            "Epoch 26/100\n",
            "469/469 [==============================] - 4s 8ms/step - loss: -504.6758 - val_loss: -511.8576\n",
            "Epoch 27/100\n",
            "469/469 [==============================] - 3s 7ms/step - loss: -504.6870 - val_loss: -511.8538\n",
            "Epoch 28/100\n",
            "469/469 [==============================] - 3s 7ms/step - loss: -504.6899 - val_loss: -511.8689\n",
            "Epoch 29/100\n",
            "469/469 [==============================] - 3s 7ms/step - loss: -504.7024 - val_loss: -511.8911\n",
            "Epoch 30/100\n",
            "469/469 [==============================] - 3s 7ms/step - loss: -504.7163 - val_loss: -511.8763\n",
            "Epoch 31/100\n",
            "469/469 [==============================] - 3s 7ms/step - loss: -504.7176 - val_loss: -511.9000\n",
            "Epoch 32/100\n",
            "469/469 [==============================] - 3s 7ms/step - loss: -504.7322 - val_loss: -511.9004\n",
            "Epoch 33/100\n",
            "469/469 [==============================] - 3s 7ms/step - loss: -504.7385 - val_loss: -511.8968\n",
            "Epoch 34/100\n",
            "469/469 [==============================] - 4s 7ms/step - loss: -504.7459 - val_loss: -511.9242\n",
            "Epoch 35/100\n",
            "469/469 [==============================] - 3s 7ms/step - loss: -504.7492 - val_loss: -511.9156\n",
            "Epoch 36/100\n",
            "469/469 [==============================] - 3s 7ms/step - loss: -504.7616 - val_loss: -511.9412\n",
            "Epoch 37/100\n",
            "469/469 [==============================] - 3s 7ms/step - loss: -504.7636 - val_loss: -511.9349\n",
            "Epoch 38/100\n",
            "469/469 [==============================] - 3s 7ms/step - loss: -504.7751 - val_loss: -511.9091\n",
            "Epoch 39/100\n",
            "469/469 [==============================] - 4s 8ms/step - loss: -504.7785 - val_loss: -511.9374\n",
            "Epoch 40/100\n",
            "469/469 [==============================] - 3s 7ms/step - loss: -504.7831 - val_loss: -511.9582\n",
            "Epoch 41/100\n",
            "469/469 [==============================] - 4s 9ms/step - loss: -504.7960 - val_loss: -511.9642\n",
            "Epoch 42/100\n",
            "469/469 [==============================] - 3s 7ms/step - loss: -504.7905 - val_loss: -511.9493\n",
            "Epoch 43/100\n",
            "469/469 [==============================] - 3s 7ms/step - loss: -504.8027 - val_loss: -511.9590\n",
            "Epoch 44/100\n",
            "469/469 [==============================] - 3s 7ms/step - loss: -504.8052 - val_loss: -511.9648\n",
            "Epoch 45/100\n",
            "469/469 [==============================] - 3s 7ms/step - loss: -504.8158 - val_loss: -511.9703\n",
            "Epoch 46/100\n",
            "469/469 [==============================] - 3s 7ms/step - loss: -504.8148 - val_loss: -511.9870\n",
            "Epoch 47/100\n",
            "469/469 [==============================] - 3s 7ms/step - loss: -504.8196 - val_loss: -511.9821\n",
            "Epoch 48/100\n",
            "469/469 [==============================] - 3s 7ms/step - loss: -504.8236 - val_loss: -511.9616\n",
            "Epoch 49/100\n",
            "469/469 [==============================] - 3s 7ms/step - loss: -504.8230 - val_loss: -511.9965\n",
            "Epoch 50/100\n",
            "469/469 [==============================] - 3s 7ms/step - loss: -504.8321 - val_loss: -511.9948\n",
            "Epoch 51/100\n",
            "469/469 [==============================] - 4s 8ms/step - loss: -504.8396 - val_loss: -512.0055\n",
            "Epoch 52/100\n",
            "469/469 [==============================] - 4s 8ms/step - loss: -504.8432 - val_loss: -512.0025\n",
            "Epoch 53/100\n",
            "469/469 [==============================] - 4s 8ms/step - loss: -504.8503 - val_loss: -512.0052\n",
            "Epoch 54/100\n",
            "469/469 [==============================] - 4s 7ms/step - loss: -504.8454 - val_loss: -512.0043\n",
            "Epoch 55/100\n",
            "469/469 [==============================] - 3s 7ms/step - loss: -504.8488 - val_loss: -512.0049\n",
            "Epoch 56/100\n",
            "469/469 [==============================] - 4s 7ms/step - loss: -504.8565 - val_loss: -512.0019\n",
            "Epoch 57/100\n",
            "469/469 [==============================] - 4s 8ms/step - loss: -504.8563 - val_loss: -512.0219\n",
            "Epoch 58/100\n",
            "469/469 [==============================] - 4s 8ms/step - loss: -504.8570 - val_loss: -512.0245\n",
            "Epoch 59/100\n",
            "469/469 [==============================] - 4s 7ms/step - loss: -504.8621 - val_loss: -512.0276\n",
            "Epoch 60/100\n",
            "469/469 [==============================] - 3s 7ms/step - loss: -504.8714 - val_loss: -512.0330\n",
            "Epoch 61/100\n",
            "469/469 [==============================] - 3s 7ms/step - loss: -504.8721 - val_loss: -512.0242\n",
            "Epoch 62/100\n",
            "469/469 [==============================] - 4s 8ms/step - loss: -504.8776 - val_loss: -512.0386\n",
            "Epoch 63/100\n",
            "469/469 [==============================] - 4s 9ms/step - loss: -504.8749 - val_loss: -512.0209\n",
            "Epoch 64/100\n",
            "469/469 [==============================] - 4s 8ms/step - loss: -504.8803 - val_loss: -512.0484\n",
            "Epoch 65/100\n",
            "469/469 [==============================] - 4s 8ms/step - loss: -504.8831 - val_loss: -512.0408\n",
            "Epoch 66/100\n",
            "469/469 [==============================] - 4s 8ms/step - loss: -504.8801 - val_loss: -512.0181\n",
            "Epoch 67/100\n",
            "469/469 [==============================] - 4s 8ms/step - loss: -504.8867 - val_loss: -512.0441\n",
            "Epoch 68/100\n",
            "469/469 [==============================] - 4s 7ms/step - loss: -504.8907 - val_loss: -512.0356\n",
            "Epoch 69/100\n",
            "469/469 [==============================] - 4s 8ms/step - loss: -504.8912 - val_loss: -512.0548\n",
            "Epoch 70/100\n",
            "469/469 [==============================] - 4s 8ms/step - loss: -504.8921 - val_loss: -512.0508\n",
            "Epoch 71/100\n",
            "469/469 [==============================] - 3s 7ms/step - loss: -504.8954 - val_loss: -512.0309\n",
            "Epoch 72/100\n",
            "469/469 [==============================] - 4s 8ms/step - loss: -504.8944 - val_loss: -512.0562\n",
            "Epoch 73/100\n",
            "469/469 [==============================] - 3s 7ms/step - loss: -504.9009 - val_loss: -512.0547\n",
            "Epoch 74/100\n",
            "469/469 [==============================] - 4s 8ms/step - loss: -504.9012 - val_loss: -512.0521\n",
            "Epoch 75/100\n",
            "469/469 [==============================] - 4s 8ms/step - loss: -504.9020 - val_loss: -512.0569\n",
            "Epoch 76/100\n",
            "469/469 [==============================] - 4s 8ms/step - loss: -504.9003 - val_loss: -512.0552\n",
            "Epoch 77/100\n",
            "469/469 [==============================] - 4s 8ms/step - loss: -504.9095 - val_loss: -512.0583\n",
            "Epoch 78/100\n",
            "469/469 [==============================] - 4s 8ms/step - loss: -504.9044 - val_loss: -512.0695\n",
            "Epoch 79/100\n",
            "469/469 [==============================] - 4s 7ms/step - loss: -504.9074 - val_loss: -512.0439\n",
            "Epoch 80/100\n",
            "469/469 [==============================] - 4s 7ms/step - loss: -504.9121 - val_loss: -512.0687\n",
            "Epoch 81/100\n",
            "469/469 [==============================] - 3s 7ms/step - loss: -504.9175 - val_loss: -512.0692\n",
            "Epoch 82/100\n",
            "469/469 [==============================] - 4s 8ms/step - loss: -504.9154 - val_loss: -512.0739\n",
            "Epoch 83/100\n",
            "469/469 [==============================] - 3s 7ms/step - loss: -504.9184 - val_loss: -512.0781\n",
            "Epoch 84/100\n",
            "469/469 [==============================] - 4s 8ms/step - loss: -504.9079 - val_loss: -512.0691\n",
            "Epoch 85/100\n",
            "469/469 [==============================] - 3s 7ms/step - loss: -504.9231 - val_loss: -512.0801\n",
            "Epoch 86/100\n",
            "469/469 [==============================] - 4s 7ms/step - loss: -504.9240 - val_loss: -512.0833\n",
            "Epoch 87/100\n",
            "469/469 [==============================] - 3s 7ms/step - loss: -504.9207 - val_loss: -512.0864\n",
            "Epoch 88/100\n",
            "469/469 [==============================] - 4s 8ms/step - loss: -504.9248 - val_loss: -512.0607\n",
            "Epoch 89/100\n",
            "469/469 [==============================] - 4s 8ms/step - loss: -504.9255 - val_loss: -512.0335\n",
            "Epoch 90/100\n",
            "469/469 [==============================] - 4s 7ms/step - loss: -504.9290 - val_loss: -512.0842\n",
            "Epoch 91/100\n",
            "469/469 [==============================] - 4s 8ms/step - loss: -504.9238 - val_loss: -512.0848\n",
            "Epoch 92/100\n",
            "469/469 [==============================] - 3s 7ms/step - loss: -504.9298 - val_loss: -512.0572\n",
            "Epoch 93/100\n",
            "469/469 [==============================] - 4s 8ms/step - loss: -504.9289 - val_loss: -512.0859\n",
            "Epoch 94/100\n",
            "469/469 [==============================] - 3s 7ms/step - loss: -504.9312 - val_loss: -512.0877\n",
            "Epoch 95/100\n",
            "469/469 [==============================] - 3s 7ms/step - loss: -504.9230 - val_loss: -512.0605\n",
            "Epoch 96/100\n",
            "469/469 [==============================] - 3s 7ms/step - loss: -504.9356 - val_loss: -512.0541\n",
            "Epoch 97/100\n",
            "469/469 [==============================] - 4s 8ms/step - loss: -504.9371 - val_loss: -512.0842\n",
            "Epoch 98/100\n",
            "469/469 [==============================] - 4s 8ms/step - loss: -504.9356 - val_loss: -512.0730\n",
            "Epoch 99/100\n",
            "469/469 [==============================] - 3s 7ms/step - loss: -504.9378 - val_loss: -512.0949\n",
            "Epoch 100/100\n",
            "469/469 [==============================] - 4s 8ms/step - loss: -504.9314 - val_loss: -512.0835\n"
          ]
        },
        {
          "data": {
            "text/plain": [
              "<keras.callbacks.History at 0x7f9f12e040d0>"
            ]
          },
          "execution_count": 18,
          "metadata": {},
          "output_type": "execute_result"
        }
      ],
      "source": [
        "autoencoder.fit(x_train_noisy, X_train_,\n",
        "                epochs=100,\n",
        "                batch_size=128,\n",
        "                shuffle=True,\n",
        "                validation_data=(x_test_noisy, X_test_),\n",
        "                callbacks=[tf.keras.callbacks.TensorBoard(log_dir='/tmp/tb', histogram_freq=0, write_graph=False)])"
      ]
    },
    {
      "cell_type": "markdown",
      "metadata": {},
      "source": [
        "#### Predict the new data ( Densoising )"
      ]
    },
    {
      "cell_type": "code",
      "execution_count": 19,
      "metadata": {
        "colab": {
          "base_uri": "https://localhost:8080/"
        },
        "id": "cY2r_GPIzGQ1",
        "outputId": "7b947e63-23cc-4219-e335-fdec3754cade"
      },
      "outputs": [
        {
          "name": "stdout",
          "output_type": "stream",
          "text": [
            "313/313 [==============================] - 1s 2ms/step\n"
          ]
        }
      ],
      "source": [
        "cnn_decoded_imgs = autoencoder.predict(x_test_noisy)"
      ]
    },
    {
      "cell_type": "markdown",
      "metadata": {},
      "source": [
        "#### The autoencoders alongside with cnn removes the noise existed in the previews images"
      ]
    },
    {
      "cell_type": "code",
      "execution_count": 20,
      "metadata": {
        "colab": {
          "base_uri": "https://localhost:8080/",
          "height": 234
        },
        "id": "_pVOumrwzLs7",
        "outputId": "32fb5b9d-9502-40bc-fbc5-e116e8a5ad39"
      },
      "outputs": [
        {
          "data": {
            "image/png": "[encoded data removed]",
            "text/plain": [
              "<Figure size 1440x288 with 20 Axes>"
            ]
          },
          "metadata": {
            "needs_background": "light"
          },
          "output_type": "display_data"
        }
      ],
      "source": [
        "n = 10\n",
        "plt.figure(figsize=(20, 4))\n",
        "\n",
        "for i in range(1, n + 1):\n",
        "\n",
        "    ax = plt.subplot(2, n, i)\n",
        "    plt.imshow(x_test_noisy[i].reshape(28, 28))\n",
        "    plt.gray()\n",
        "    ax.get_xaxis().set_visible(False)\n",
        "    ax.get_yaxis().set_visible(False)\n",
        "\n",
        "\n",
        "    ax = plt.subplot(2, n, i + n)\n",
        "    plt.imshow(cnn_decoded_imgs[i].reshape(28, 28))\n",
        "    plt.gray()\n",
        "    ax.get_xaxis().set_visible(False)\n",
        "    ax.get_yaxis().set_visible(False)\n",
        "plt.show()"
      ]
    }
  ],
  "metadata": {
    "accelerator": "GPU",
    "colab": {
      "provenance": []
    },
    "gpuClass": "standard",
    "kernelspec": {
      "display_name": "Python 3.10.3 64-bit",
      "language": "python",
      "name": "python3"
    },
    "language_info": {
      "codemirror_mode": {
        "name": "ipython",
        "version": 3
      },
      "file_extension": ".py",
      "mimetype": "text/x-python",
      "name": "python",
      "nbconvert_exporter": "python",
      "pygments_lexer": "ipython3",
      "version": "3.10.3"
    },
    "orig_nbformat": 4,
    "vscode": {
      "interpreter": {
        "hash": "e4a2e8328773a6df6e31cbd314a205656d9e38512a9cebb7bc9b0bda381f1bb4"
      }
    }
  },
  "nbformat": 4,
  "nbformat_minor": 0
}
